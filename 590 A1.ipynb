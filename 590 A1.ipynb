{
 "cells": [
  {
   "cell_type": "markdown",
   "metadata": {},
   "source": [
    "# 1"
   ]
  },
  {
   "cell_type": "markdown",
   "metadata": {},
   "source": [
    "Regularization. Using the accompanying Hitters dataset, we will explore\n",
    "regression models to predict a player's Salary from other variables. You must\n",
    "python.\n",
    "https://gist.github.com/keeganhines/59974f1ebef97bbaa44fb19143f90bad"
   ]
  },
  {
   "cell_type": "markdown",
   "metadata": {},
   "source": [
    "# 1.1"
   ]
  },
  {
   "cell_type": "markdown",
   "metadata": {},
   "source": [
    "Use LASSO regression to predict Salary from the other numeric predictors. Create a visualization of the coefficient trajectories. Comment on which are the final three predictors that remain in the model. Use cross-validation to find the optimal value of the regularization penality. How many predictors are left in that model?"
   ]
  },
  {
   "cell_type": "code",
   "execution_count": 1,
   "metadata": {},
   "outputs": [],
   "source": [
    "import pandas as pd\n",
    "from sklearn import linear_model\n",
    "import numpy as np"
   ]
  },
  {
   "cell_type": "code",
   "execution_count": 4,
   "metadata": {},
   "outputs": [],
   "source": [
    "df=pd.read_csv(\"/Users/zhouyihan/Desktop/Hitters.csv\",index_col=0)\n",
    "df=df.drop(columns=['League','Division','NewLeague'])\n",
    "df=df.dropna()\n",
    "target=df['Salary']\n",
    "data=df.drop(['Salary'], axis=1)"
   ]
  },
  {
   "cell_type": "code",
   "execution_count": 5,
   "metadata": {},
   "outputs": [
    {
     "name": "stdout",
     "output_type": "stream",
     "text": [
      "                   AtBat  Hits  HmRun  Runs  RBI  Walks  Years  CAtBat  CHits  \\\n",
      "-Alan Ashby          315    81      7    24   38     39     14    3449    835   \n",
      "-Alvin Davis         479   130     18    66   72     76      3    1624    457   \n",
      "-Andre Dawson        496   141     20    65   78     37     11    5628   1575   \n",
      "-Andres Galarraga    321    87     10    39   42     30      2     396    101   \n",
      "-Alfredo Griffin     594   169      4    74   51     35     11    4408   1133   \n",
      "-Al Newman           185    37      1    23    8     21      2     214     42   \n",
      "-Argenis Salazar     298    73      0    24   24      7      3     509    108   \n",
      "-Andres Thomas       323    81      6    26   32      8      2     341     86   \n",
      "-Andre Thornton      401    92     17    49   66     65     13    5206   1332   \n",
      "-Alan Trammell       574   159     21   107   75     59     10    4631   1300   \n",
      "-Alex Trevino        202    53      4    31   26     27      9    1876    467   \n",
      "-Andy VanSlyke       418   113     13    48   61     47      4    1512    392   \n",
      "-Alan Wiggins        239    60      0    30   11     22      6    1941    510   \n",
      "-Bill Almon          196    43      7    29   27     30     13    3231    825   \n",
      "-Buddy Bell          568   158     20    89   75     73     15    8068   2273   \n",
      "-Buddy Biancalana    190    46      2    24    8     15      5     479    102   \n",
      "-Bruce Bochy         127    32      8    16   22     14      8     727    180   \n",
      "-Barry Bonds         413    92     16    72   48     65      1     413     92   \n",
      "-Bobby Bonilla       426   109      3    55   43     62      1     426    109   \n",
      "-Bob Brenly          472   116     16    60   62     74      6    1924    489   \n",
      "-Bill Buckner        629   168     18    73  102     40     18    8424   2464   \n",
      "-Brett Butler        587   163      4    92   51     70      6    2695    747   \n",
      "-Bob Dernier         324    73      4    32   18     22      7    1931    491   \n",
      "-Bo Diaz             474   129     10    50   56     40     10    2331    604   \n",
      "-Bill Doran          550   152      6    92   37     81      5    2308    633   \n",
      "-Brian Downing       513   137     20    90   95     90     14    5201   1382   \n",
      "-Billy Hatcher       419   108      6    55   36     22      3     591    149   \n",
      "-Brook Jacoby        583   168     17    83   80     56      5    1646    452   \n",
      "-Bob Kearney         204    49      6    23   25     12      7    1309    308   \n",
      "-Bill Madlock        379   106     10    38   60     30     14    6207   1906   \n",
      "...                  ...   ...    ...   ...  ...    ...    ...     ...    ...   \n",
      "-Tony Fernandez      687   213     10    91   65     27      4    1518    448   \n",
      "-Tim Flannery        368   103      3    48   28     54      8    1897    493   \n",
      "-Tom Foley           263    70      1    26   23     30      4     888    220   \n",
      "-Tony Gwynn          642   211     14   107   59     52      5    2364    770   \n",
      "-Terry Harper        265    68      8    26   30     29      7    1337    339   \n",
      "-Tommy Herr          559   141      2    48   61     73      8    3162    874   \n",
      "-Tim Hulett          520   120     17    53   44     21      4     927    227   \n",
      "-Terry Kennedy        19     4      1     2    3      1      1      19      4   \n",
      "-Tito Landrum        205    43      2    24   17     20      7     854    219   \n",
      "-Tim Laudner         193    47     10    21   29     24      6    1136    256   \n",
      "-Tom Paciorek        213    61      4    17   22      3     17    4061   1145   \n",
      "-Tony Pena           510   147     10    56   52     53      7    2872    821   \n",
      "-Terry Pendleton     578   138      1    56   59     34      3    1399    357   \n",
      "-Tony Phillips       441   113      5    76   52     76      5    1546    397   \n",
      "-Terry Puhl          172    42      3    17   14     15     10    4086   1150   \n",
      "-Ted Simmons         127    32      4    14   25     12     19    8396   2402   \n",
      "-Tim Teufel          279    69      4    35   31     32      4    1359    355   \n",
      "-Tim Wallach         480   112     18    50   71     44      7    3031    771   \n",
      "-Vince Coleman       600   139      0    94   29     60      2    1236    309   \n",
      "-Von Hayes           610   186     19   107   98     74      6    2728    753   \n",
      "-Vance Law           360    81      5    37   44     37      7    2268    566   \n",
      "-Wally Backman       387   124      1    67   27     36      7    1775    506   \n",
      "-Wade Boggs          580   207      8   107   71    105      5    2778    978   \n",
      "-Will Clark          408   117     11    66   41     34      1     408    117   \n",
      "-Wally Joyner        593   172     22    82  100     57      1     593    172   \n",
      "-Willie McGee        497   127      7    65   48     37      5    2703    806   \n",
      "-Willie Randolph     492   136      5    76   50     94     12    5511   1511   \n",
      "-Wayne Tolleson      475   126      3    61   43     52      6    1700    433   \n",
      "-Willie Upshaw       573   144      9    85   60     78      8    3198    857   \n",
      "-Willie Wilson       631   170      9    77   44     31     11    4908   1457   \n",
      "\n",
      "                   CHmRun  CRuns  CRBI  CWalks  PutOuts  Assists  Errors  \\\n",
      "-Alan Ashby            69    321   414     375      632       43      10   \n",
      "-Alvin Davis           63    224   266     263      880       82      14   \n",
      "-Andre Dawson         225    828   838     354      200       11       3   \n",
      "-Andres Galarraga      12     48    46      33      805       40       4   \n",
      "-Alfredo Griffin       19    501   336     194      282      421      25   \n",
      "-Al Newman              1     30     9      24       76      127       7   \n",
      "-Argenis Salazar        0     41    37      12      121      283       9   \n",
      "-Andres Thomas          6     32    34       8      143      290      19   \n",
      "-Andre Thornton       253    784   890     866        0        0       0   \n",
      "-Alan Trammell         90    702   504     488      238      445      22   \n",
      "-Alex Trevino          15    192   186     161      304       45      11   \n",
      "-Andy VanSlyke         41    205   204     203      211       11       7   \n",
      "-Alan Wiggins           4    309   103     207      121      151       6   \n",
      "-Bill Almon            36    376   290     238       80       45       8   \n",
      "-Buddy Bell           177   1045   993     732      105      290      10   \n",
      "-Buddy Biancalana       5     65    23      39      102      177      16   \n",
      "-Bruce Bochy           24     67    82      56      202       22       2   \n",
      "-Barry Bonds           16     72    48      65      280        9       5   \n",
      "-Bobby Bonilla          3     55    43      62      361       22       2   \n",
      "-Bob Brenly            67    242   251     240      518       55       3   \n",
      "-Bill Buckner         164   1008  1072     402     1067      157      14   \n",
      "-Brett Butler          17    442   198     317      434        9       3   \n",
      "-Bob Dernier           13    291   108     180      222        3       3   \n",
      "-Bo Diaz               61    246   327     166      732       83      13   \n",
      "-Bill Doran            32    349   182     308      262      329      16   \n",
      "-Brian Downing        166    763   734     784      267        5       3   \n",
      "-Billy Hatcher          8     80    46      31      226        7       4   \n",
      "-Brook Jacoby          44    219   208     136      109      292      25   \n",
      "-Bob Kearney           27    126   132      66      419       46       5   \n",
      "-Bill Madlock         146    859   803     571       72      170      24   \n",
      "...                   ...    ...   ...     ...      ...      ...     ...   \n",
      "-Tony Fernandez        15    196   137      89      294      445      13   \n",
      "-Tim Flannery           9    207   162     198      209      246       3   \n",
      "-Tom Foley              9     83    82      86       81      147       4   \n",
      "-Tony Gwynn            27    352   230     193      337       19       4   \n",
      "-Terry Harper          32    135   163     128       92        5       3   \n",
      "-Tommy Herr            16    421   349     359      352      414       9   \n",
      "-Tim Hulett            22    106    80      52       70      144      11   \n",
      "-Terry Kennedy          1      2     3       1      692       70       8   \n",
      "-Tito Landrum          12    105    99      71      131        6       1   \n",
      "-Tim Laudner           42    129   139     106      299       13       5   \n",
      "-Tom Paciorek          83    488   491     244      178       45       4   \n",
      "-Tony Pena             63    307   340     174      810       99      18   \n",
      "-Terry Pendleton        7    149   161      87      133      371      20   \n",
      "-Tony Phillips         17    226   149     191      160      290      11   \n",
      "-Terry Puhl            57    579   363     406       65        0       0   \n",
      "-Ted Simmons          242   1048  1348     819      167       18       6   \n",
      "-Tim Teufel            31    180   148     158      133      173       9   \n",
      "-Tim Wallach          110    338   406     239       94      270      16   \n",
      "-Vince Coleman          1    201    69     110      300       12       9   \n",
      "-Von Hayes             69    399   366     286     1182       96      13   \n",
      "-Vance Law             41    279   257     246      170      284       3   \n",
      "-Wally Backman          6    272   125     194      186      290      17   \n",
      "-Wade Boggs            32    474   322     417      121      267      19   \n",
      "-Will Clark            11     66    41      34      942       72      11   \n",
      "-Wally Joyner          22     82   100      57     1222      139      15   \n",
      "-Willie McGee          32    379   311     138      325        9       3   \n",
      "-Willie Randolph       39    897   451     875      313      381      20   \n",
      "-Wayne Tolleson         7    217    93     146       37      113       7   \n",
      "-Willie Upshaw         97    470   420     332     1314      131      12   \n",
      "-Willie Wilson         30    775   357     249      408        4       3   \n",
      "\n",
      "                     Salary  \n",
      "-Alan Ashby         475.000  \n",
      "-Alvin Davis        480.000  \n",
      "-Andre Dawson       500.000  \n",
      "-Andres Galarraga    91.500  \n",
      "-Alfredo Griffin    750.000  \n",
      "-Al Newman           70.000  \n",
      "-Argenis Salazar    100.000  \n",
      "-Andres Thomas       75.000  \n",
      "-Andre Thornton    1100.000  \n",
      "-Alan Trammell      517.143  \n",
      "-Alex Trevino       512.500  \n",
      "-Andy VanSlyke      550.000  \n",
      "-Alan Wiggins       700.000  \n",
      "-Bill Almon         240.000  \n",
      "-Buddy Bell         775.000  \n",
      "-Buddy Biancalana   175.000  \n",
      "-Bruce Bochy        135.000  \n",
      "-Barry Bonds        100.000  \n",
      "-Bobby Bonilla      115.000  \n",
      "-Bob Brenly         600.000  \n",
      "-Bill Buckner       776.667  \n",
      "-Brett Butler       765.000  \n",
      "-Bob Dernier        708.333  \n",
      "-Bo Diaz            750.000  \n",
      "-Bill Doran         625.000  \n",
      "-Brian Downing      900.000  \n",
      "-Billy Hatcher      110.000  \n",
      "-Brook Jacoby       612.500  \n",
      "-Bob Kearney        300.000  \n",
      "-Bill Madlock       850.000  \n",
      "...                     ...  \n",
      "-Tony Fernandez     350.000  \n",
      "-Tim Flannery       326.667  \n",
      "-Tom Foley          250.000  \n",
      "-Tony Gwynn         740.000  \n",
      "-Terry Harper       425.000  \n",
      "-Tommy Herr         925.000  \n",
      "-Tim Hulett         185.000  \n",
      "-Terry Kennedy      920.000  \n",
      "-Tito Landrum       286.667  \n",
      "-Tim Laudner        245.000  \n",
      "-Tom Paciorek       235.000  \n",
      "-Tony Pena         1150.000  \n",
      "-Terry Pendleton    160.000  \n",
      "-Tony Phillips      425.000  \n",
      "-Terry Puhl         900.000  \n",
      "-Ted Simmons        500.000  \n",
      "-Tim Teufel         277.500  \n",
      "-Tim Wallach        750.000  \n",
      "-Vince Coleman      160.000  \n",
      "-Von Hayes         1300.000  \n",
      "-Vance Law          525.000  \n",
      "-Wally Backman      550.000  \n",
      "-Wade Boggs        1600.000  \n",
      "-Will Clark         120.000  \n",
      "-Wally Joyner       165.000  \n",
      "-Willie McGee       700.000  \n",
      "-Willie Randolph    875.000  \n",
      "-Wayne Tolleson     385.000  \n",
      "-Willie Upshaw      960.000  \n",
      "-Willie Wilson     1000.000  \n",
      "\n",
      "[263 rows x 17 columns]\n"
     ]
    }
   ],
   "source": [
    "print(df)"
   ]
  },
  {
   "cell_type": "code",
   "execution_count": 6,
   "metadata": {},
   "outputs": [],
   "source": [
    "from sklearn.linear_model import LassoCV\n",
    "from sklearn.linear_model import Lasso\n",
    "import matplotlib.pyplot as plt"
   ]
  },
  {
   "cell_type": "code",
   "execution_count": 7,
   "metadata": {},
   "outputs": [],
   "source": [
    "n = 100\n",
    "alphas = 10 ** np.linspace(-2,10,n)"
   ]
  },
  {
   "cell_type": "code",
   "execution_count": 8,
   "metadata": {},
   "outputs": [],
   "source": [
    "coefs=[]\n",
    "for i in alphas:\n",
    "    lasso=Lasso(alpha = i, max_iter=5000, normalize=True)\n",
    "    lasso.fit(data,target)\n",
    "    coefs.append(lasso.coef_)"
   ]
  },
  {
   "cell_type": "code",
   "execution_count": 9,
   "metadata": {},
   "outputs": [
    {
     "data": {
      "text/plain": [
       "Text(0.5, 1.0, 'Coefficients Trajectory')"
      ]
     },
     "execution_count": 9,
     "metadata": {},
     "output_type": "execute_result"
    },
    {
     "data": {
      "image/png": "[encoded data removed]",
      "text/plain": [
       "<Figure size 432x288 with 1 Axes>"
      ]
     },
     "metadata": {
      "needs_background": "light"
     },
     "output_type": "display_data"
    }
   ],
   "source": [
    "fig = plt.gca()\n",
    "fig.plot(alphas, coefs)\n",
    "fig.set_xscale('log')\n",
    "plt.xlabel('Alpha')\n",
    "plt.ylabel('Coefficients')\n",
    "plt.title('Coefficients Trajectory')"
   ]
  },
  {
   "cell_type": "markdown",
   "metadata": {},
   "source": [
    "The plot indicates that we can choose alpha equal to 10."
   ]
  },
  {
   "cell_type": "code",
   "execution_count": 10,
   "metadata": {},
   "outputs": [
    {
     "name": "stdout",
     "output_type": "stream",
     "text": [
      "AtBat      0.000000\n",
      "Hits       0.329475\n",
      "HmRun      0.000000\n",
      "Runs       0.000000\n",
      "RBI        0.000000\n",
      "Walks      0.000000\n",
      "Years      0.000000\n",
      "CAtBat     0.000000\n",
      "CHits      0.000000\n",
      "CHmRun     0.000000\n",
      "CRuns      0.076322\n",
      "CRBI       0.204475\n",
      "CWalks     0.000000\n",
      "PutOuts    0.000000\n",
      "Assists    0.000000\n",
      "Errors     0.000000\n",
      "dtype: float64\n"
     ]
    }
   ],
   "source": [
    "Lassomodel = Lasso(alpha = 10, max_iter = 5000, normalize = True).fit(data,target)\n",
    "coef2 = pd.Series(Lassomodel .coef_, index=data.columns)\n",
    "print(coef2)"
   ]
  },
  {
   "cell_type": "markdown",
   "metadata": {},
   "source": [
    "The final three predictors which remain in the model are \"Hits\",\"CRuns\",\"CRBI\"."
   ]
  },
  {
   "cell_type": "markdown",
   "metadata": {},
   "source": [
    "#Find optimal vlaue:"
   ]
  },
  {
   "cell_type": "code",
   "execution_count": 11,
   "metadata": {},
   "outputs": [
    {
     "name": "stdout",
     "output_type": "stream",
     "text": [
      "The optimal value of the regularization penality is 0.13691039485958048\n"
     ]
    }
   ],
   "source": [
    "lassocv = LassoCV(cv=5, max_iter = 5000,normalize = True)\n",
    "lassocv.fit(data, target)\n",
    "alphaopt = lassocv.alpha_\n",
    "print(\"The optimal value of the regularization penality is\", alphaopt)"
   ]
  },
  {
   "cell_type": "code",
   "execution_count": 12,
   "metadata": {},
   "outputs": [],
   "source": [
    "n = np.sum(lassocv.coef_ != 0)"
   ]
  },
  {
   "cell_type": "code",
   "execution_count": 20,
   "metadata": {},
   "outputs": [
    {
     "name": "stdout",
     "output_type": "stream",
     "text": [
      "AtBat     -1.895082\n",
      "Hits       6.455555\n",
      "HmRun     -0.000000\n",
      "Runs      -0.000000\n",
      "RBI        0.349806\n",
      "Walks      5.053509\n",
      "Years     -9.587424\n",
      "CAtBat    -0.008710\n",
      "CHits      0.000000\n",
      "CHmRun     0.557524\n",
      "CRuns      0.789045\n",
      "CRBI       0.337133\n",
      "CWalks    -0.564136\n",
      "PutOuts    0.285458\n",
      "Assists    0.225658\n",
      "Errors    -2.039256\n",
      "dtype: float64\n",
      "The number of predictors left in the model is 13\n"
     ]
    }
   ],
   "source": [
    "Lassomodel2 = Lasso(alpha=alphaopt, max_iter = 4000, normalize = True).fit(data, target)\n",
    "print(pd.Series(Lassomodel2.coef_, index=data.columns))\n",
    "n = np.sum(Lassomodel2.coef_ != 0)\n",
    "print('The number of predictors left in the model is',n )"
   ]
  },
  {
   "cell_type": "markdown",
   "metadata": {},
   "source": [
    "## 1.2"
   ]
  },
  {
   "cell_type": "markdown",
   "metadata": {},
   "source": [
    "Repeat with Ridge Regression. Visualize coeffecient trajectories. Use cross-validation to find the optimal vaule of the regularization penalty."
   ]
  },
  {
   "cell_type": "code",
   "execution_count": 16,
   "metadata": {},
   "outputs": [],
   "source": [
    "from sklearn.linear_model import Ridge, RidgeCV"
   ]
  },
  {
   "cell_type": "code",
   "execution_count": 17,
   "metadata": {},
   "outputs": [],
   "source": [
    "coefs=[]\n",
    "for j in alphas:\n",
    "    ridge=Ridge(alpha = j,normalize=True)\n",
    "    ridge.fit(data, target)\n",
    "    coefs.append(ridge.coef_)"
   ]
  },
  {
   "cell_type": "code",
   "execution_count": 18,
   "metadata": {},
   "outputs": [
    {
     "data": {
      "text/plain": [
       "Text(0.5, 1.0, 'Ridge Coefficients Trajectory')"
      ]
     },
     "execution_count": 18,
     "metadata": {},
     "output_type": "execute_result"
    },
    {
     "data": {
      "image/png": "[encoded data removed]",
      "text/plain": [
       "<Figure size 432x288 with 1 Axes>"
      ]
     },
     "metadata": {
      "needs_background": "light"
     },
     "output_type": "display_data"
    }
   ],
   "source": [
    "figR = plt.gca()\n",
    "figR.plot(alphas, coefs)\n",
    "figR.set_xscale('log')\n",
    "plt.xlabel('Alpha')\n",
    "plt.ylabel('Coefficients')\n",
    "plt.title('Ridge Coefficients Trajectory')"
   ]
  },
  {
   "cell_type": "code",
   "execution_count": 19,
   "metadata": {},
   "outputs": [
    {
     "name": "stdout",
     "output_type": "stream",
     "text": [
      "The optimal value of the regularization penality is 0.01\n"
     ]
    }
   ],
   "source": [
    "ridgecv = RidgeCV(alphas = alphas, scoring = 'neg_mean_squared_error', normalize = True)\n",
    "ridgecv.fit(data,target)\n",
    "print(\"The optimal value of the regularization penality is\", ridgecv.alpha_)"
   ]
  },
  {
   "cell_type": "markdown",
   "metadata": {},
   "source": [
    "# 2. short answer"
   ]
  },
  {
   "cell_type": "markdown",
   "metadata": {},
   "source": [
    "Q: Explain in your own words the bias-variance tradeoff. What\n",
    "role does regularization play in this tradeoff? Make reference to your findings\n",
    "in number (1) to describe models of high/low bias and variance."
   ]
  },
  {
   "cell_type": "markdown",
   "metadata": {},
   "source": [
    "A: Bias-variance tradeoff is the property of a set of predictive models whereby models with a lower bias in parameter estimation have a higher variance of the parameter estimates, and vice versa.\n",
    "\n",
    "When the bias is low and variance is high, the test modle will be overfitting. And regularization coule avoid it by setting the coefficient of irrelevant predictors close to zero or equal to zero. When the number of predictors decreases, bias will increase and variance will decrease.\n",
    "\n",
    "Based on the model above, when we increase the value of alpha, the bias increases and variance decreases, and vice versa."
   ]
  },
  {
   "cell_type": "code",
   "execution_count": null,
   "metadata": {},
   "outputs": [],
   "source": []
  }
 ],
 "metadata": {
  "kernelspec": {
   "display_name": "Python 3",
   "language": "python",
   "name": "python3"
  },
  "language_info": {
   "codemirror_mode": {
    "name": "ipython",
    "version": 3
   },
   "file_extension": ".py",
   "mimetype": "text/x-python",
   "name": "python",
   "nbconvert_exporter": "python",
   "pygments_lexer": "ipython3",
   "version": "3.7.3"
  }
 },
 "nbformat": 4,
 "nbformat_minor": 2
}
