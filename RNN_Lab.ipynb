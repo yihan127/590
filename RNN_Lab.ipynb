{
  "nbformat": 4,
  "nbformat_minor": 0,
  "metadata": {
    "colab": {
      "name": "RNN_Lab.ipynb",
      "provenance": [],
      "collapsed_sections": []
    },
    "kernelspec": {
      "name": "python3",
      "display_name": "Python 3"
    },
    "accelerator": "GPU"
  },
  "cells": [
    {
      "cell_type": "code",
      "metadata": {
        "id": "XOkBF0K6P6MC"
      },
      "source": [
        "import tensorflow as tf\n",
        "import tensorflow.keras as tfk\n",
        "import tensorflow.keras.layers as tfkl\n",
        "from tensorflow.keras.models import Sequential\n",
        "\n",
        "\n",
        "from google.colab import drive\n",
        "import numpy as np\n",
        "import pandas as pd"
      ],
      "execution_count": 8,
      "outputs": []
    },
    {
      "cell_type": "markdown",
      "metadata": {
        "id": "KdCU982WwzFo"
      },
      "source": [
        "In this example, we're going to train a [CharRNN](http://karpathy.github.io/2015/05/21/rnn-effectiveness/) on a body of Shakespearian text. Ultimtely, this is an unsuperived learning task. But similar to our previous explorations in unsupervised DL, we will use an unlabeled dataset and create many samples of labeled data that we can use with our familiar supervised loss functions. The result will be a model that has learned the statistical properties of the input text, and can then be considered a \"generative\" model of language because we can use it to generate synthetic passages of Shakespeare.  "
      ]
    },
    {
      "cell_type": "code",
      "metadata": {
        "id": "dX7qrncTRKN0",
        "outputId": "f9a054b5-1024-400b-d806-dc8d2a3bf390",
        "colab": {
          "base_uri": "https://localhost:8080/"
        }
      },
      "source": [
        "drive.mount('/content/gdrive/')"
      ],
      "execution_count": 9,
      "outputs": [
        {
          "output_type": "stream",
          "text": [
            "Mounted at /content/gdrive/\n"
          ],
          "name": "stdout"
        }
      ]
    },
    {
      "cell_type": "code",
      "metadata": {
        "id": "6iek9QSARq1L"
      },
      "source": [
        "file_path = \"/content/gdrive/My Drive/anly590-datasets/shakespeare.txt\"\n",
        "\n",
        "with open(file_path,\"r\") as f:\n",
        "  text = f.read()"
      ],
      "execution_count": 10,
      "outputs": []
    },
    {
      "cell_type": "markdown",
      "metadata": {
        "id": "ie2LtLF4Vv6A"
      },
      "source": [
        "We've loaded our Shakespeare text, let's take a look at a random snippet."
      ]
    },
    {
      "cell_type": "code",
      "metadata": {
        "id": "LVFmTUsGWePe",
        "outputId": "e1879b70-b6e0-4636-c24f-658f231e8b42",
        "colab": {
          "base_uri": "https://localhost:8080/"
        }
      },
      "source": [
        "print(text[31600:32000])"
      ],
      "execution_count": 11,
      "outputs": [
        {
          "output_type": "stream",
          "text": [
            " lies i' the second chamber?\n",
            "  LADY MACBETH. Donalbain.\n",
            "  MACBETH. This is a sorry sight.           [Looks on his hands.\n",
            "  LADY MACBETH. A foolish thought, to say a sorry sight.\n",
            "  MACBETH. There's one did laugh in 's sleep, and one cried,\n",
            "      \"Murther!\"\n",
            "    That they did wake each other. I stood and heard them,\n",
            "    But they did say their prayers and address'd them\n",
            "    Again to sleep.\n",
            "  LADY MACB\n"
          ],
          "name": "stdout"
        }
      ]
    },
    {
      "cell_type": "markdown",
      "metadata": {
        "id": "qLXQHFUsW0xu"
      },
      "source": [
        "We need to convert our text into numeric arrays, the next several blocks accomplish this.\n",
        "\n",
        "First, we'll create a mapping between characters and their numeric index. We'll also create the reverse mapping, which is useful."
      ]
    },
    {
      "cell_type": "code",
      "metadata": {
        "id": "UkvcQEUASXQG",
        "outputId": "197a7b1b-5653-46ce-a89e-982df838523c",
        "colab": {
          "base_uri": "https://localhost:8080/"
        }
      },
      "source": [
        "chars = sorted(list(set(text)))\n",
        "print('total chars:', len(chars))\n",
        "char_indices = dict((c, i) for i, c in enumerate(chars))\n",
        "indices_char = dict((i, c) for i, c in enumerate(chars))"
      ],
      "execution_count": 12,
      "outputs": [
        {
          "output_type": "stream",
          "text": [
            "total chars: 75\n"
          ],
          "name": "stdout"
        }
      ]
    },
    {
      "cell_type": "markdown",
      "metadata": {
        "id": "XexyPZdAXC0p"
      },
      "source": [
        "Next, we'll create a training set of sub-sequences. Remember, we're trying to train a model to be able to predict the next chracter if it is given several characters of a subsequence. So we will create training pairs where each X is a fixed-length subsequences and each Y is the corresponding next letter in the text."
      ]
    },
    {
      "cell_type": "code",
      "metadata": {
        "id": "ej4RdC76S7RB",
        "outputId": "44080b2a-c9dc-4f51-9890-3922e87c82ee",
        "colab": {
          "base_uri": "https://localhost:8080/"
        }
      },
      "source": [
        "maxlen = 40\n",
        "step = 3\n",
        "sub_sequences = []\n",
        "next_chars = []\n",
        "for i in range(0, len(text) - maxlen, step):\n",
        "    sub_sequences.append(text[i: i + maxlen])\n",
        "    next_chars.append(text[i + maxlen])\n",
        "print('nb sequences:', len(sub_sequences))"
      ],
      "execution_count": 13,
      "outputs": [
        {
          "output_type": "stream",
          "text": [
            "nb sequences: 38700\n"
          ],
          "name": "stdout"
        }
      ]
    },
    {
      "cell_type": "code",
      "metadata": {
        "id": "QVHru3qPWX8Z",
        "outputId": "45708d34-5b97-4d29-ea9c-515d32583766",
        "colab": {
          "base_uri": "https://localhost:8080/"
        }
      },
      "source": [
        "k=300\n",
        "print(\"(Sequence):\\n\" + sub_sequences[k])\n",
        "print(\"\\n(Target Character): \\n\" + next_chars[k])"
      ],
      "execution_count": 14,
      "outputs": [
        {
          "output_type": "stream",
          "text": [
            "(Sequence):\n",
            " and other Apparitions\n",
            "  Lords, Gentleme\n",
            "\n",
            "(Target Character): \n",
            "n\n"
          ],
          "name": "stdout"
        }
      ]
    },
    {
      "cell_type": "markdown",
      "metadata": {
        "id": "vD2QxlOAW8zQ"
      },
      "source": [
        "Next we'll create one-hot vectors for our sub-sequences. The tensor we create here will be shaped as (num_sequences x sequence_length x alphabet_size)."
      ]
    },
    {
      "cell_type": "code",
      "metadata": {
        "id": "SfQRBmiNWehk"
      },
      "source": [
        "X = np.zeros((len(sub_sequences), maxlen, len(chars)), dtype=np.uint8 )\n",
        "Y = np.zeros((len(sub_sequences), len(chars)), dtype=np.uint8)\n",
        "for i, seq in enumerate(sub_sequences):\n",
        "    for t, char in enumerate(seq):\n",
        "        X[i, t, char_indices[char]] = 1\n",
        "        Y[i, char_indices[next_chars[i]]] = 1"
      ],
      "execution_count": 15,
      "outputs": []
    },
    {
      "cell_type": "code",
      "metadata": {
        "id": "U4qxjsGDXLtb",
        "outputId": "af176b75-b701-4c56-e1d5-972dd6ebd32e",
        "colab": {
          "base_uri": "https://localhost:8080/"
        }
      },
      "source": [
        "X[0,0,:]"
      ],
      "execution_count": 16,
      "outputs": [
        {
          "output_type": "execute_result",
          "data": {
            "text/plain": [
              "array([0, 0, 0, 0, 0, 0, 0, 0, 0, 0, 0, 0, 0, 0, 0, 0, 0, 0, 0, 0, 0, 0,\n",
              "       0, 0, 0, 0, 0, 0, 0, 0, 0, 0, 0, 0, 0, 0, 0, 0, 0, 0, 0, 0, 0, 0,\n",
              "       0, 0, 0, 0, 0, 0, 0, 0, 0, 0, 0, 0, 0, 0, 0, 0, 0, 0, 0, 0, 0, 0,\n",
              "       0, 0, 0, 0, 0, 0, 0, 0, 1], dtype=uint8)"
            ]
          },
          "metadata": {
            "tags": []
          },
          "execution_count": 16
        }
      ]
    },
    {
      "cell_type": "code",
      "metadata": {
        "id": "423pgyKqXnE_",
        "outputId": "6c2d9c79-99e4-46ca-d1b8-41244b40f435",
        "colab": {
          "base_uri": "https://localhost:8080/"
        }
      },
      "source": [
        "Y[0]"
      ],
      "execution_count": 17,
      "outputs": [
        {
          "output_type": "execute_result",
          "data": {
            "text/plain": [
              "array([0, 0, 0, 0, 0, 0, 0, 0, 0, 0, 0, 0, 0, 0, 0, 0, 0, 0, 0, 0, 0, 0,\n",
              "       0, 0, 0, 0, 0, 0, 0, 0, 0, 0, 0, 0, 0, 0, 0, 0, 0, 0, 0, 0, 0, 0,\n",
              "       0, 0, 0, 0, 0, 0, 0, 0, 0, 0, 0, 0, 0, 0, 0, 0, 1, 0, 0, 0, 0, 0,\n",
              "       0, 0, 0, 0, 0, 0, 0, 0, 0], dtype=uint8)"
            ]
          },
          "metadata": {
            "tags": []
          },
          "execution_count": 17
        }
      ]
    },
    {
      "cell_type": "markdown",
      "metadata": {
        "id": "2dJrr1caYVnI"
      },
      "source": [
        "Our RNN model will be quite simple."
      ]
    },
    {
      "cell_type": "code",
      "metadata": {
        "id": "95NSRVMpYGAT"
      },
      "source": [
        "char_rnn = Sequential()\n",
        "char_rnn.add(tfkl.LSTM(128, input_shape=(maxlen, len(chars))))\n",
        "char_rnn.add(tfkl.Dense(len(chars),activation=\"softmax\"))"
      ],
      "execution_count": 18,
      "outputs": []
    },
    {
      "cell_type": "code",
      "metadata": {
        "id": "t4xdUMP_Y6iu"
      },
      "source": [
        "char_rnn.compile(loss='categorical_crossentropy', optimizer=tfk.optimizers.RMSprop(lr=0.01))"
      ],
      "execution_count": 19,
      "outputs": []
    },
    {
      "cell_type": "code",
      "metadata": {
        "id": "KGDTEd0GZFNk",
        "outputId": "3a21b415-e346-4d00-ab7b-aa655350117b",
        "colab": {
          "base_uri": "https://localhost:8080/"
        }
      },
      "source": [
        "char_rnn.fit(X,Y, epochs=20, batch_size=1024)"
      ],
      "execution_count": 20,
      "outputs": [
        {
          "output_type": "stream",
          "text": [
            "Epoch 1/20\n",
            "38/38 [==============================] - 1s 14ms/step - loss: 3.2654\n",
            "Epoch 2/20\n",
            "38/38 [==============================] - 1s 14ms/step - loss: 2.6557\n",
            "Epoch 3/20\n",
            "38/38 [==============================] - 1s 14ms/step - loss: 2.2190\n",
            "Epoch 4/20\n",
            "38/38 [==============================] - 1s 14ms/step - loss: 1.9954\n",
            "Epoch 5/20\n",
            "38/38 [==============================] - 1s 14ms/step - loss: 1.8451\n",
            "Epoch 6/20\n",
            "38/38 [==============================] - 1s 14ms/step - loss: 1.7347\n",
            "Epoch 7/20\n",
            "38/38 [==============================] - 1s 14ms/step - loss: 1.6403\n",
            "Epoch 8/20\n",
            "38/38 [==============================] - 1s 14ms/step - loss: 1.5591\n",
            "Epoch 9/20\n",
            "38/38 [==============================] - 1s 14ms/step - loss: 1.4932\n",
            "Epoch 10/20\n",
            "38/38 [==============================] - 1s 14ms/step - loss: 1.4277\n",
            "Epoch 11/20\n",
            "38/38 [==============================] - 1s 13ms/step - loss: 1.3701\n",
            "Epoch 12/20\n",
            "38/38 [==============================] - 1s 14ms/step - loss: 1.3110\n",
            "Epoch 13/20\n",
            "38/38 [==============================] - 1s 14ms/step - loss: 1.2565\n",
            "Epoch 14/20\n",
            "38/38 [==============================] - 1s 14ms/step - loss: 1.2027\n",
            "Epoch 15/20\n",
            "38/38 [==============================] - 1s 14ms/step - loss: 1.1510\n",
            "Epoch 16/20\n",
            "38/38 [==============================] - 1s 14ms/step - loss: 1.1004\n",
            "Epoch 17/20\n",
            "38/38 [==============================] - 1s 14ms/step - loss: 1.0475\n",
            "Epoch 18/20\n",
            "38/38 [==============================] - 1s 14ms/step - loss: 1.0045\n",
            "Epoch 19/20\n",
            "38/38 [==============================] - 1s 14ms/step - loss: 0.9637\n",
            "Epoch 20/20\n",
            "38/38 [==============================] - 1s 14ms/step - loss: 0.9206\n"
          ],
          "name": "stdout"
        },
        {
          "output_type": "execute_result",
          "data": {
            "text/plain": [
              "<tensorflow.python.keras.callbacks.History at 0x7fa490265518>"
            ]
          },
          "metadata": {
            "tags": []
          },
          "execution_count": 20
        }
      ]
    },
    {
      "cell_type": "markdown",
      "metadata": {
        "id": "6hhAWPgRX96V"
      },
      "source": [
        "Once we have a trained model, we can simulate new text by making predictions about the next character and then drawing characters in proportion to the predicted probabilities. And then simple repeat that process over and over, each time drawing the next character."
      ]
    },
    {
      "cell_type": "code",
      "metadata": {
        "id": "IMpJwYSsZSoc"
      },
      "source": [
        "def draw_char(probs):\n",
        "    probs = np.asarray(probs).astype('float64')\n",
        "    if sum(probs) != 1.0:\n",
        "      probs = probs / np.sum(probs)\n",
        "    draw = np.random.choice(range(len(probs)) , p=probs)\n",
        "    return draw\n",
        "\n",
        "def sample_text(model, sample_length=100):\n",
        "    start = np.random.randint(0, len(text) - maxlen - 1)\n",
        "    sequence = text[start: start + maxlen]\n",
        "  \n",
        "    x_preds = np.zeros((sample_length, maxlen, len(chars)))\n",
        "    for i in range(sample_length):\n",
        "        for t, char in enumerate(sequence[-maxlen:]):\n",
        "            x_preds[i, t, char_indices[char]] = 1.\n",
        "\n",
        "        preds = model.predict(np.expand_dims(x_preds[i,:,:], axis=0), verbose=0)[0]\n",
        "        next_index = draw_char(preds)\n",
        "        next_char = indices_char[next_index]\n",
        "\n",
        "        sequence += next_char\n",
        "    return sequence"
      ],
      "execution_count": 22,
      "outputs": []
    },
    {
      "cell_type": "code",
      "metadata": {
        "id": "jHD5iDlHayL7"
      },
      "source": [
        "sim = sample_text(char_rnn,sample_length=500) "
      ],
      "execution_count": 23,
      "outputs": []
    },
    {
      "cell_type": "code",
      "metadata": {
        "id": "bOP0ljRtOEmp",
        "outputId": "61679285-c0e5-47f1-a67c-54626faee737",
        "colab": {
          "base_uri": "https://localhost:8080/"
        }
      },
      "source": [
        "print(sim)"
      ],
      "execution_count": 24,
      "outputs": [
        {
          "output_type": "stream",
          "text": [
            "\n",
            "    He hath a heavenly gift of prophecy.\n",
            "    Mesoun ay manque's not, them. Go Sham Cambor.\n",
            "    The heaven, hellenns, whise it a terboff,\n",
            "    By forme ayou an. What'ly kit is in.\n",
            "  ROSt I host flis deep, fire o' the still ate faill,\n",
            "    Erely mode his Goon must should devily,\n",
            "    That prilk, my lil, and swaegh hand of our Macbeth\n",
            "    Purtheen gast thon eve blood and thanks with do!\n",
            "    He shall come of Cawdor hid Serth my deeded post\n",
            "    With that same him misters angid to lace,\n",
            "    As huses, his hasth'd. Trat shou hed cand in; hereat\n"
          ],
          "name": "stdout"
        }
      ]
    },
    {
      "cell_type": "markdown",
      "metadata": {
        "id": "Aj4kXg4BTbOc"
      },
      "source": [
        "Notice that we can do pretty well to learn the typical statistical patterns of this text and then simulate new text that appears to be very similar to legitimate Shakespeare. \n",
        "\n",
        "But just a caution - we can also do pretty well with a much simpler method (Markov model): http://nbviewer.jupyter.org/gist/yoavg/d76121dfde2618422139\n",
        "\n",
        "So the lesson is to try something simple before jumping right in to deep learning."
      ]
    },
    {
      "cell_type": "markdown",
      "metadata": {
        "id": "n5IE5xprp3RS"
      },
      "source": [
        "## Exercise"
      ]
    },
    {
      "cell_type": "markdown",
      "metadata": {
        "id": "HoN_s6nQsDdn"
      },
      "source": [
        "In this example, we're going to use an RNN for sequence classification. The task we'll set up is to generate a training set of randomized strings, and train our model to detect whether a string contains any vowels."
      ]
    },
    {
      "cell_type": "markdown",
      "metadata": {
        "id": "Isy5RPDdsTYT"
      },
      "source": [
        "First, we'll create a training dataset of short randomized character sequences and the corresponding label of whether or not they contain at least one vowel."
      ]
    },
    {
      "cell_type": "code",
      "metadata": {
        "id": "hE6C-Xl6p5W7"
      },
      "source": [
        "import string"
      ],
      "execution_count": 25,
      "outputs": []
    },
    {
      "cell_type": "code",
      "metadata": {
        "id": "CI7QA2Ewp-ZJ"
      },
      "source": [
        "def contains_vowels(sequence):\n",
        "  vowels = [\"a\", \"e\", \"i\", \"o\", \"u\"]\n",
        "  return any([vowel in list(sequence) for vowel in vowels])"
      ],
      "execution_count": 26,
      "outputs": []
    },
    {
      "cell_type": "code",
      "metadata": {
        "id": "oZ9cEhMrqtoG",
        "outputId": "2e892f00-eb3f-49d9-93d3-6fb7417692f9",
        "colab": {
          "base_uri": "https://localhost:8080/"
        }
      },
      "source": [
        "contains_vowels(\"gradient\")"
      ],
      "execution_count": 27,
      "outputs": [
        {
          "output_type": "execute_result",
          "data": {
            "text/plain": [
              "True"
            ]
          },
          "metadata": {
            "tags": []
          },
          "execution_count": 27
        }
      ]
    },
    {
      "cell_type": "code",
      "metadata": {
        "id": "EwBEUPYwp9Z0"
      },
      "source": [
        "sequences = []\n",
        "labels = []\n",
        "for i in range(1000):\n",
        " char_list = np.random.choice( list(string.ascii_lowercase), size = 5, replace=True)\n",
        " seq = \"\".join(char_list)\n",
        " sequences.append(seq)\n",
        " labels.append(int(contains_vowels(seq)))"
      ],
      "execution_count": 28,
      "outputs": []
    },
    {
      "cell_type": "code",
      "metadata": {
        "id": "IkJXdy5krgHn"
      },
      "source": [
        "df = pd.DataFrame({\"sequence\": sequences, \"label\":labels})"
      ],
      "execution_count": 29,
      "outputs": []
    },
    {
      "cell_type": "code",
      "metadata": {
        "id": "ubAQf53Dr8zy",
        "outputId": "7c98d179-9b71-417d-f4ce-19f6b8e91fa9",
        "colab": {
          "base_uri": "https://localhost:8080/",
          "height": 204
        }
      },
      "source": [
        "df.head()"
      ],
      "execution_count": 30,
      "outputs": [
        {
          "output_type": "execute_result",
          "data": {
            "text/html": [
              "<div>\n",
              "<style scoped>\n",
              "    .dataframe tbody tr th:only-of-type {\n",
              "        vertical-align: middle;\n",
              "    }\n",
              "\n",
              "    .dataframe tbody tr th {\n",
              "        vertical-align: top;\n",
              "    }\n",
              "\n",
              "    .dataframe thead th {\n",
              "        text-align: right;\n",
              "    }\n",
              "</style>\n",
              "<table border=\"1\" class=\"dataframe\">\n",
              "  <thead>\n",
              "    <tr style=\"text-align: right;\">\n",
              "      <th></th>\n",
              "      <th>sequence</th>\n",
              "      <th>label</th>\n",
              "    </tr>\n",
              "  </thead>\n",
              "  <tbody>\n",
              "    <tr>\n",
              "      <th>0</th>\n",
              "      <td>hisin</td>\n",
              "      <td>1</td>\n",
              "    </tr>\n",
              "    <tr>\n",
              "      <th>1</th>\n",
              "      <td>ckdpi</td>\n",
              "      <td>1</td>\n",
              "    </tr>\n",
              "    <tr>\n",
              "      <th>2</th>\n",
              "      <td>mgldg</td>\n",
              "      <td>0</td>\n",
              "    </tr>\n",
              "    <tr>\n",
              "      <th>3</th>\n",
              "      <td>bdxsv</td>\n",
              "      <td>0</td>\n",
              "    </tr>\n",
              "    <tr>\n",
              "      <th>4</th>\n",
              "      <td>hzyra</td>\n",
              "      <td>1</td>\n",
              "    </tr>\n",
              "  </tbody>\n",
              "</table>\n",
              "</div>"
            ],
            "text/plain": [
              "  sequence  label\n",
              "0    hisin      1\n",
              "1    ckdpi      1\n",
              "2    mgldg      0\n",
              "3    bdxsv      0\n",
              "4    hzyra      1"
            ]
          },
          "metadata": {
            "tags": []
          },
          "execution_count": 30
        }
      ]
    },
    {
      "cell_type": "markdown",
      "metadata": {
        "id": "2xkX8Xa8sfID"
      },
      "source": [
        "Next, set up and train an RNN (of any type) to solve this task. What preprocessing will you need to do first on the raw data in order to prepare it for the network?"
      ]
    },
    {
      "cell_type": "code",
      "metadata": {
        "id": "6M4Sj4XHr9hj",
        "outputId": "d0f1fb25-71ad-46cf-d0dc-a4d637237687",
        "colab": {
          "base_uri": "https://localhost:8080/"
        }
      },
      "source": [
        "# Data Preprocessing\n",
        "chars = list(string.ascii_lowercase)\n",
        "print(len(chars))\n",
        "char_indices = dict((c, i) for i, c in enumerate(chars))\n",
        "indices_char = dict((i, c) for i, c in enumerate(chars))\n",
        "\n",
        "X = np.zeros((1000,10,100))\n",
        "for i, seq in enumerate(sequences):\n",
        "    for t,char in enumerate(seq):\n",
        "        X[i,t,char_indices[char]] = 1\n",
        "\n",
        "Y = np.array(labels)"
      ],
      "execution_count": 54,
      "outputs": [
        {
          "output_type": "stream",
          "text": [
            "26\n"
          ],
          "name": "stdout"
        }
      ]
    },
    {
      "cell_type": "code",
      "metadata": {
        "id": "Og8gtSgHslED",
        "outputId": "7f7c8452-c89d-4fe5-cdb7-e1e250296920",
        "colab": {
          "base_uri": "https://localhost:8080/"
        }
      },
      "source": [
        "# Model setup and training\n",
        "model = Sequential()\n",
        "model.add(tfkl.LSTM(144, input_shape=(10,100)))\n",
        "model.add(tfkl.Dense(1,activation=\"sigmoid\"))\n",
        "model.compile(loss='binary_crossentropy', optimizer=tfk.optimizers.RMSprop(lr=0.01),metrics=['accuracy'])\n",
        "model.summary()"
      ],
      "execution_count": 55,
      "outputs": [
        {
          "output_type": "stream",
          "text": [
            "Model: \"sequential_3\"\n",
            "_________________________________________________________________\n",
            "Layer (type)                 Output Shape              Param #   \n",
            "=================================================================\n",
            "lstm_3 (LSTM)                (None, 144)               141120    \n",
            "_________________________________________________________________\n",
            "dense_3 (Dense)              (None, 1)                 145       \n",
            "=================================================================\n",
            "Total params: 141,265\n",
            "Trainable params: 141,265\n",
            "Non-trainable params: 0\n",
            "_________________________________________________________________\n"
          ],
          "name": "stdout"
        }
      ]
    },
    {
      "cell_type": "code",
      "metadata": {
        "id": "lSLXwJvJszDu",
        "outputId": "57165cef-ca91-43c4-8555-0f5cc7a8b6ab",
        "colab": {
          "base_uri": "https://localhost:8080/"
        }
      },
      "source": [
        "model.fit(X,Y,epochs=20,batch_size=1024)"
      ],
      "execution_count": 56,
      "outputs": [
        {
          "output_type": "stream",
          "text": [
            "Epoch 1/20\n",
            "1/1 [==============================] - 0s 2ms/step - loss: 0.6933 - accuracy: 0.4780\n",
            "Epoch 2/20\n",
            "1/1 [==============================] - 0s 2ms/step - loss: 0.6151 - accuracy: 0.6650\n",
            "Epoch 3/20\n",
            "1/1 [==============================] - 0s 2ms/step - loss: 3.0688 - accuracy: 0.6650\n",
            "Epoch 4/20\n",
            "1/1 [==============================] - 0s 2ms/step - loss: 0.4517 - accuracy: 0.8320\n",
            "Epoch 5/20\n",
            "1/1 [==============================] - 0s 2ms/step - loss: 0.6426 - accuracy: 0.6950\n",
            "Epoch 6/20\n",
            "1/1 [==============================] - 0s 3ms/step - loss: 0.8828 - accuracy: 0.3350\n",
            "Epoch 7/20\n",
            "1/1 [==============================] - 0s 2ms/step - loss: 0.6962 - accuracy: 0.4500\n",
            "Epoch 8/20\n",
            "1/1 [==============================] - 0s 2ms/step - loss: 0.6316 - accuracy: 0.6650\n",
            "Epoch 9/20\n",
            "1/1 [==============================] - 0s 4ms/step - loss: 0.5498 - accuracy: 0.6650\n",
            "Epoch 10/20\n",
            "1/1 [==============================] - 0s 2ms/step - loss: 0.3019 - accuracy: 0.8730\n",
            "Epoch 11/20\n",
            "1/1 [==============================] - 0s 2ms/step - loss: 0.8429 - accuracy: 0.4730\n",
            "Epoch 12/20\n",
            "1/1 [==============================] - 0s 3ms/step - loss: 0.2865 - accuracy: 0.8810\n",
            "Epoch 13/20\n",
            "1/1 [==============================] - 0s 2ms/step - loss: 0.2169 - accuracy: 0.9690\n",
            "Epoch 14/20\n",
            "1/1 [==============================] - 0s 3ms/step - loss: 0.5253 - accuracy: 0.6990\n",
            "Epoch 15/20\n",
            "1/1 [==============================] - 0s 3ms/step - loss: 0.3728 - accuracy: 0.6130\n",
            "Epoch 16/20\n",
            "1/1 [==============================] - 0s 3ms/step - loss: 0.3212 - accuracy: 0.6880\n",
            "Epoch 17/20\n",
            "1/1 [==============================] - 0s 2ms/step - loss: 0.6420 - accuracy: 0.6980\n",
            "Epoch 18/20\n",
            "1/1 [==============================] - 0s 2ms/step - loss: 0.3394 - accuracy: 0.9000\n",
            "Epoch 19/20\n",
            "1/1 [==============================] - 0s 3ms/step - loss: 0.1978 - accuracy: 0.9980\n",
            "Epoch 20/20\n",
            "1/1 [==============================] - 0s 3ms/step - loss: 0.1482 - accuracy: 1.0000\n"
          ],
          "name": "stdout"
        },
        {
          "output_type": "execute_result",
          "data": {
            "text/plain": [
              "<tensorflow.python.keras.callbacks.History at 0x7fa3fa185828>"
            ]
          },
          "metadata": {
            "tags": []
          },
          "execution_count": 56
        }
      ]
    }
  ]
}